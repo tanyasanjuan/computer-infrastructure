{
 "cells": [
  {
   "cell_type": "markdown",
   "id": "a38849c3",
   "metadata": {},
   "source": [
    "# yFinance\n",
    "\n",
    "https://github.com/ranaroussi/yfinance"
   ]
  },
  {
   "cell_type": "code",
   "execution_count": 2,
   "id": "71d2c22c",
   "metadata": {},
   "outputs": [],
   "source": [
    "# yahoo Finance data\n",
    "import yfinance as yf\n"
   ]
  }
 ],
 "metadata": {
  "kernelspec": {
   "display_name": "Python 3",
   "language": "python",
   "name": "python3"
  },
  "language_info": {
   "codemirror_mode": {
    "name": "ipython",
    "version": 3
   },
   "file_extension": ".py",
   "mimetype": "text/x-python",
   "name": "python",
   "nbconvert_exporter": "python",
   "pygments_lexer": "ipython3",
   "version": "3.12.1"
  }
 },
 "nbformat": 4,
 "nbformat_minor": 5
}
