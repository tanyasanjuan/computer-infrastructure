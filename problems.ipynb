{
 "cells": [
  {
   "cell_type": "markdown",
   "id": "a38849c3",
   "metadata": {},
   "source": [
    "#yFinance\n",
    "\n",
    "https://github.com/ranaroussi/yfinance"
   ]
  },
  {
   "cell_type": "code",
   "execution_count": null,
   "id": "71d2c22c",
   "metadata": {},
   "outputs": [],
   "source": []
  }
 ],
 "metadata": {
  "language_info": {
   "name": "python"
  }
 },
 "nbformat": 4,
 "nbformat_minor": 5
}
